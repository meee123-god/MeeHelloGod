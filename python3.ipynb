{
  "nbformat": 4,
  "nbformat_minor": 0,
  "metadata": {
    "colab": {
      "provenance": [],
      "include_colab_link": true
    },
    "kernelspec": {
      "name": "python3",
      "display_name": "Python 3"
    },
    "language_info": {
      "name": "python"
    }
  },
  "cells": [
    {
      "cell_type": "markdown",
      "metadata": {
        "id": "view-in-github",
        "colab_type": "text"
      },
      "source": [
        "<a href=\"https://colab.research.google.com/github/meee123-god/MeeHelloGod/blob/main/python3.ipynb\" target=\"_parent\"><img src=\"https://colab.research.google.com/assets/colab-badge.svg\" alt=\"Open In Colab\"/></a>"
      ]
    },
    {
      "cell_type": "markdown",
      "source": [
        "**DATE : 2 APRIL 2025 , DAY : THRUSDAY**"
      ],
      "metadata": {
        "id": "0PiNimHsUU25"
      }
    },
    {
      "cell_type": "markdown",
      "source": [
        "python 3 (pandas)"
      ],
      "metadata": {
        "id": "h7jZ5xRaTH3n"
      }
    },
    {
      "cell_type": "code",
      "source": [
        "print(\"hello bhagwan\")"
      ],
      "metadata": {
        "colab": {
          "base_uri": "https://localhost:8080/"
        },
        "id": "CJCapUWWUweJ",
        "outputId": "05a5f4d7-bc2e-4174-b039-ab36fc4d0b03"
      },
      "execution_count": 43,
      "outputs": [
        {
          "output_type": "stream",
          "name": "stdout",
          "text": [
            "hello bhagwan\n"
          ]
        }
      ]
    },
    {
      "cell_type": "code",
      "source": [
        "i=1.1\n",
        "print(type(i))"
      ],
      "metadata": {
        "colab": {
          "base_uri": "https://localhost:8080/"
        },
        "id": "TFE10LROTvI4",
        "outputId": "95c82b09-16c3-4d94-e1af-2c936d753186"
      },
      "execution_count": null,
      "outputs": [
        {
          "output_type": "stream",
          "name": "stdout",
          "text": [
            "<class 'float'>\n"
          ]
        }
      ]
    },
    {
      "cell_type": "markdown",
      "source": [
        "#*PANDAS*"
      ],
      "metadata": {
        "id": "32_-xtrwUNp6"
      }
    },
    {
      "cell_type": "code",
      "source": [
        "import pandas as pd\n",
        "#data sample data set\n",
        "data={\n",
        "    'Name': ['Alice', 'Bob', 'Charlie'],\n",
        "    'Age': [25, 30, 35],\n",
        "    'Salary': [50000, 60000, 70000]\n",
        "}\n",
        "#convert dictionary to dataframe\n",
        "df=pd.DataFrame(data)\n",
        "# print the DataFrame\n",
        "print(df)\n",
        "#here output comes as a table and Each column is a feature, and each row is a data entry."
      ],
      "metadata": {
        "id": "riApGAlkUxmi",
        "colab": {
          "base_uri": "https://localhost:8080/"
        },
        "outputId": "de55c95d-07a8-4806-af01-144be4f74f0d"
      },
      "execution_count": 1,
      "outputs": [
        {
          "output_type": "stream",
          "name": "stdout",
          "text": [
            "      Name  Age  Salary\n",
            "0    Alice   25   50000\n",
            "1      Bob   30   60000\n",
            "2  Charlie   35   70000\n"
          ]
        }
      ]
    },
    {
      "cell_type": "markdown",
      "source": [
        "# **reading and writing CSV files**"
      ],
      "metadata": {
        "id": "IYheCIliCvYQ"
      }
    },
    {
      "cell_type": "markdown",
      "source": [
        "**writing and creating a csv file**"
      ],
      "metadata": {
        "id": "vWbG-f2bGUgL"
      }
    },
    {
      "cell_type": "code",
      "source": [
        "# prompt: make csv file with some 20 lines data\n",
        "\n",
        "import pandas as pd\n",
        "import numpy as np\n",
        "\n",
        "# Create a sample DataFrame with 20 rows\n",
        "data = {\n",
        "    'Name': np.random.choice(['Alice', 'Bob', 'Charlie', 'David', 'Eve'], size=20),\n",
        "    'Age': np.random.randint(20, 40, size=20),\n",
        "    'Salary': np.random.randint(40000, 80000, size=20)\n",
        "}\n",
        "df = pd.DataFrame(data)\n",
        "\n",
        "# Save the DataFrame to a CSV file\n",
        "df.to_csv('output.csv', index=False)\n"
      ],
      "metadata": {
        "id": "THoqU6Y_FRf6"
      },
      "execution_count": 5,
      "outputs": []
    },
    {
      "cell_type": "code",
      "source": [
        "#reading csv file\n",
        "df= pd.read_csv('output.csv')\n",
        "print(df.head())# show firsst 5 rows\n"
      ],
      "metadata": {
        "colab": {
          "base_uri": "https://localhost:8080/"
        },
        "id": "D-UZiOQGCpVH",
        "outputId": "a3518eec-6158-481c-d100-0a249ca50385"
      },
      "execution_count": 7,
      "outputs": [
        {
          "output_type": "stream",
          "name": "stdout",
          "text": [
            "      Name  Age  Salary\n",
            "0    Alice   33   49546\n",
            "1      Bob   39   46343\n",
            "2    Alice   34   67778\n",
            "3  Charlie   29   64854\n",
            "4      Bob   37   49862\n"
          ]
        }
      ]
    },
    {
      "cell_type": "code",
      "source": [
        "print(df.head())  # show first five rows\n",
        "print(df.describe()) # summary statistics (mean, min ,max, etc.)\n",
        "print(df.info())  # dataset info(columns,data types, etc.)"
      ],
      "metadata": {
        "colab": {
          "base_uri": "https://localhost:8080/"
        },
        "id": "R-Eob2zyG-ZJ",
        "outputId": "4d9bf6c4-6c51-45a9-e16d-2fc7e74bc545"
      },
      "execution_count": 8,
      "outputs": [
        {
          "output_type": "stream",
          "name": "stdout",
          "text": [
            "      Name  Age  Salary\n",
            "0    Alice   33   49546\n",
            "1      Bob   39   46343\n",
            "2    Alice   34   67778\n",
            "3  Charlie   29   64854\n",
            "4      Bob   37   49862\n",
            "             Age        Salary\n",
            "count  20.000000     20.000000\n",
            "mean   30.700000  60385.000000\n",
            "std     6.602232  11492.703891\n",
            "min    20.000000  45604.000000\n",
            "25%    25.500000  49783.000000\n",
            "50%    32.000000  61747.000000\n",
            "75%    37.000000  68472.500000\n",
            "max    39.000000  79522.000000\n",
            "<class 'pandas.core.frame.DataFrame'>\n",
            "RangeIndex: 20 entries, 0 to 19\n",
            "Data columns (total 3 columns):\n",
            " #   Column  Non-Null Count  Dtype \n",
            "---  ------  --------------  ----- \n",
            " 0   Name    20 non-null     object\n",
            " 1   Age     20 non-null     int64 \n",
            " 2   Salary  20 non-null     int64 \n",
            "dtypes: int64(2), object(1)\n",
            "memory usage: 612.0+ bytes\n",
            "None\n"
          ]
        }
      ]
    },
    {
      "cell_type": "code",
      "source": [
        "import pandas as pd\n",
        "import numpy as np\n",
        "datr ={\n",
        "     'Name': ['Alice', 'Bob', 'Charlie', 'David', 'Eve', 'Frank', 'Grace', 'Hannah', 'Ian', 'Jack'],\n",
        "    'Score': [85, 78, 92, 88, 76, 95, 89, 67, 80, 91],\n",
        "    'Grade': ['B', 'C', 'A', 'B+', 'C', 'A+', 'B+', 'D', 'B', 'A']\n",
        "}\n",
        "df=pd.DataFrame(datr)\n",
        "print(df)\n",
        "df.to_csv('students_data.csv',index=False)\n",
        "print(df.tail(-8)) # gives you last lines of csv\n",
        "print(df.iloc[-1]) # alternative of tail\n",
        "print(df.shape)  #(rows , columns)\n",
        "print(df.columns) # columns name"
      ],
      "metadata": {
        "colab": {
          "base_uri": "https://localhost:8080/"
        },
        "collapsed": true,
        "id": "6BO3FX7IICW3",
        "outputId": "aa2d40f7-da63-4f4c-c32a-2c76f5be367e"
      },
      "execution_count": 29,
      "outputs": [
        {
          "output_type": "stream",
          "name": "stdout",
          "text": [
            "      Name  Score Grade\n",
            "0    Alice     85     B\n",
            "1      Bob     78     C\n",
            "2  Charlie     92     A\n",
            "3    David     88    B+\n",
            "4      Eve     76     C\n",
            "5    Frank     95    A+\n",
            "6    Grace     89    B+\n",
            "7   Hannah     67     D\n",
            "8      Ian     80     B\n",
            "9     Jack     91     A\n",
            "   Name  Score Grade\n",
            "8   Ian     80     B\n",
            "9  Jack     91     A\n",
            "Name     Jack\n",
            "Score      91\n",
            "Grade       A\n",
            "Name: 9, dtype: object\n",
            "(10, 3)\n",
            "Index(['Name', 'Score', 'Grade'], dtype='object')\n"
          ]
        }
      ]
    },
    {
      "cell_type": "markdown",
      "source": [
        "\n",
        "\n",
        "# 2 : selecting and filtering  DATa\n",
        "\n",
        "\n",
        "\n",
        "\n"
      ],
      "metadata": {
        "id": "rkjgnrlFNxyc"
      }
    },
    {
      "cell_type": "markdown",
      "source": [
        "*selecting columns*"
      ],
      "metadata": {
        "id": "MDEmZQ1wOJzS"
      }
    },
    {
      "cell_type": "code",
      "source": [
        "print(df[\"Name\"]) # select  single column\n",
        "print(df[['Name','Score']]) # select multiple columns"
      ],
      "metadata": {
        "colab": {
          "base_uri": "https://localhost:8080/"
        },
        "collapsed": true,
        "id": "pBk2qazvOHeG",
        "outputId": "c44dd260-e107-46c6-ebce-c463ba53cb8c"
      },
      "execution_count": 32,
      "outputs": [
        {
          "output_type": "stream",
          "name": "stdout",
          "text": [
            "0      Alice\n",
            "1        Bob\n",
            "2    Charlie\n",
            "3      David\n",
            "4        Eve\n",
            "5      Frank\n",
            "6      Grace\n",
            "7     Hannah\n",
            "8        Ian\n",
            "9       Jack\n",
            "Name: Name, dtype: object\n",
            "      Name  Score\n",
            "0    Alice     85\n",
            "1      Bob     78\n",
            "2  Charlie     92\n",
            "3    David     88\n",
            "4      Eve     76\n",
            "5    Frank     95\n",
            "6    Grace     89\n",
            "7   Hannah     67\n",
            "8      Ian     80\n",
            "9     Jack     91\n"
          ]
        }
      ]
    },
    {
      "cell_type": "markdown",
      "source": [
        "*selecting rows*"
      ],
      "metadata": {
        "id": "PMsYQP35Pd9c"
      }
    },
    {
      "cell_type": "code",
      "source": [
        "print(df.iloc[2])# select the third row\n",
        "print(df.iloc[1:4])# select rows from 1 to 4"
      ],
      "metadata": {
        "colab": {
          "base_uri": "https://localhost:8080/"
        },
        "collapsed": true,
        "id": "j_JbAptCPlB8",
        "outputId": "45db2600-7496-4eb9-8d32-dabb79cc3f3c"
      },
      "execution_count": 36,
      "outputs": [
        {
          "output_type": "stream",
          "name": "stdout",
          "text": [
            "Name     Charlie\n",
            "Score         92\n",
            "Grade          A\n",
            "Name: 2, dtype: object\n",
            "      Name  Score Grade\n",
            "1      Bob     78     C\n",
            "2  Charlie     92     A\n",
            "3    David     88    B+\n"
          ]
        }
      ]
    },
    {
      "cell_type": "markdown",
      "source": [
        "*filtering data(condition-based selection)*"
      ],
      "metadata": {
        "id": "oi8eLKhNQfgP"
      }
    },
    {
      "cell_type": "code",
      "source": [
        "high_scores=df[df['Score']>85] #students with score > 85\n",
        "print(high_scores)\n",
        "grade_a =df[df['Grade']!=\"B\"] # students with grade B\n",
        "print(grade_a)"
      ],
      "metadata": {
        "colab": {
          "base_uri": "https://localhost:8080/"
        },
        "collapsed": true,
        "id": "yPMSwTR5QuY-",
        "outputId": "742d41b5-5500-4ea4-d4b0-1905b151b82a"
      },
      "execution_count": 38,
      "outputs": [
        {
          "output_type": "stream",
          "name": "stdout",
          "text": [
            "      Name  Score Grade\n",
            "2  Charlie     92     A\n",
            "3    David     88    B+\n",
            "5    Frank     95    A+\n",
            "6    Grace     89    B+\n",
            "9     Jack     91     A\n",
            "      Name  Score Grade\n",
            "1      Bob     78     C\n",
            "2  Charlie     92     A\n",
            "3    David     88    B+\n",
            "4      Eve     76     C\n",
            "5    Frank     95    A+\n",
            "6    Grace     89    B+\n",
            "7   Hannah     67     D\n",
            "9     Jack     91     A\n"
          ]
        }
      ]
    },
    {
      "cell_type": "markdown",
      "source": [
        "#  3 : sorting & Modifying data"
      ],
      "metadata": {
        "id": "wI63Jx_RR2vK"
      }
    },
    {
      "cell_type": "markdown",
      "source": [
        "*3.1 : sorting data*"
      ],
      "metadata": {
        "id": "zlE-d0pLSIyU"
      }
    },
    {
      "cell_type": "code",
      "source": [
        "df_sorted =df.sort_values(by='Score',ascending= True) # sort by score in ascending order\n",
        "print(df_sorted)"
      ],
      "metadata": {
        "colab": {
          "base_uri": "https://localhost:8080/"
        },
        "collapsed": true,
        "id": "FyVAMRVHSTfO",
        "outputId": "c334d0d7-163d-4d8a-ab1d-c16a79a87cae"
      },
      "execution_count": 40,
      "outputs": [
        {
          "output_type": "stream",
          "name": "stdout",
          "text": [
            "      Name  Score Grade\n",
            "7   Hannah     67     D\n",
            "4      Eve     76     C\n",
            "1      Bob     78     C\n",
            "8      Ian     80     B\n",
            "0    Alice     85     B\n",
            "3    David     88    B+\n",
            "6    Grace     89    B+\n",
            "9     Jack     91     A\n",
            "2  Charlie     92     A\n",
            "5    Frank     95    A+\n"
          ]
        }
      ]
    },
    {
      "cell_type": "markdown",
      "source": [
        "*3.2: adding a new column*"
      ],
      "metadata": {
        "id": "CTZ9HujZS9sd"
      }
    },
    {
      "cell_type": "code",
      "source": [
        "df['pass/fail']=df['Score'].apply(lambda v:\"pass\"if v>+40 else 'fail')\n",
        "print(df)"
      ],
      "metadata": {
        "colab": {
          "base_uri": "https://localhost:8080/"
        },
        "collapsed": true,
        "id": "EkmN0Fw4TS4R",
        "outputId": "02c48099-213f-4145-84f7-4c772fd84d0e"
      },
      "execution_count": 41,
      "outputs": [
        {
          "output_type": "stream",
          "name": "stdout",
          "text": [
            "      Name  Score Grade pass/fail\n",
            "0    Alice     85     B      pass\n",
            "1      Bob     78     C      pass\n",
            "2  Charlie     92     A      pass\n",
            "3    David     88    B+      pass\n",
            "4      Eve     76     C      pass\n",
            "5    Frank     95    A+      pass\n",
            "6    Grace     89    B+      pass\n",
            "7   Hannah     67     D      pass\n",
            "8      Ian     80     B      pass\n",
            "9     Jack     91     A      pass\n"
          ]
        }
      ]
    }
  ]
}